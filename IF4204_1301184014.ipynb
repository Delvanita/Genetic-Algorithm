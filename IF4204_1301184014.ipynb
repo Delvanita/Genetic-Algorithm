{
 "cells": [
  {
   "cell_type": "code",
   "execution_count": 78,
   "metadata": {},
   "outputs": [],
   "source": [
    "import random \n",
    "import math\n",
    "import copy"
   ]
  },
  {
   "cell_type": "code",
   "execution_count": 79,
   "metadata": {},
   "outputs": [
    {
     "data": {
      "text/plain": [
       "0.6545901337800865"
      ]
     },
     "execution_count": 79,
     "metadata": {},
     "output_type": "execute_result"
    }
   ],
   "source": [
    "random.random()"
   ]
  },
  {
   "cell_type": "code",
   "execution_count": 80,
   "metadata": {},
   "outputs": [],
   "source": [
    "def getChrom(nChrom):\n",
    "    chrom = []\n",
    "    for i in range(nChrom):\n",
    "        chrom.append(random.randint(0,1))\n",
    "    return chrom"
   ]
  },
  {
   "cell_type": "code",
   "execution_count": 81,
   "metadata": {},
   "outputs": [],
   "source": [
    "def getPop(nPopul):\n",
    "    popi = []\n",
    "    for i in range(nPopul):\n",
    "        popi.append(getChrom(10))\n",
    "    return popi"
   ]
  },
  {
   "cell_type": "code",
   "execution_count": 82,
   "metadata": {},
   "outputs": [],
   "source": [
    "def decodeKromosom(dkrom): \n",
    "    x1 = -1 + ((2-(-1))/(2**-1 + 2**-2 + 2**-3)) * ((dkrom[0]*2**-1) + (dkrom[1]*2**2) + (dkrom[2]*2**-3) + (dkrom[3]*2**-3) + (dkrom[4]*2**-3))\n",
    "    x2 = -1 + ((1-(-1))/(2**-1 + 2**-2 + 2**-3)) * ((dkrom[5]*2**-1) + (dkrom[6]*2**2) + (dkrom[7]*2**-3) + (dkrom[8]*2**-3) + (dkrom[9]*2**-3))\n",
    "    return [x1, x2]"
   ]
  },
  {
   "cell_type": "code",
   "execution_count": 83,
   "metadata": {},
   "outputs": [],
   "source": [
    "def fitnes(dkrom) :\n",
    "    kr = decodeKromosom(dkrom)\n",
    "    fita = 1 / (math.cos(kr[0])*math.sin(kr[1])-(kr[0]/(kr[1]**2+1))+0.0001)\n",
    "    return fita"
   ]
  },
  {
   "cell_type": "code",
   "execution_count": 84,
   "metadata": {},
   "outputs": [],
   "source": [
    "def calculateFitness(popi, nPopul):\n",
    "    cafit = []    \n",
    "    for i in range(nPopul):\n",
    "        cafit.append(fitnes(popi[i]))\n",
    "    return cafit"
   ]
  },
  {
   "cell_type": "code",
   "execution_count": 85,
   "metadata": {},
   "outputs": [],
   "source": [
    "def tourSelec(popi, tour, nPopul):\n",
    "    bestChrom = []\n",
    "    for i in range(1, tour):\n",
    "        krom = popi[random.randint(0,nPopul-1)]\n",
    "        if (bestChrom == [] or fitnes(krom) > fitnes(bestChrom)):\n",
    "            bestChrom = krom\n",
    "    return bestChrom"
   ]
  },
  {
   "cell_type": "code",
   "execution_count": 86,
   "metadata": {},
   "outputs": [],
   "source": [
    "def crossOver(tab1, tab2, probCrossOver):\n",
    "    if probCrossOver >= random.uniform(0,1):\n",
    "        cellRandom = random.randint(2,6)\n",
    "        cell1 = cellRandom\n",
    "        temp = tab1[cellRandom:]\n",
    "        tab1[cellRandom:] = tab2[cellRandom:]\n",
    "        tab2[cellRandom:] = temp\n",
    "    return tab1, tab2"
   ]
  },
  {
   "cell_type": "code",
   "execution_count": 87,
   "metadata": {},
   "outputs": [],
   "source": [
    "def Probmutasi(prnt1, prnt2, pm):\n",
    "    r = random.random()\n",
    "    if (r < pm):\n",
    "        prnt1[random.randint(0,9)] = random.randint(0,1)\n",
    "        prnt2[random.randint(0,9)] = random.randint(0,1)\n",
    "    return prnt1, prnt2"
   ]
  },
  {
   "cell_type": "code",
   "execution_count": 88,
   "metadata": {},
   "outputs": [],
   "source": [
    "def Elitisme(fit_all):\n",
    "    return fit_all.index(max(fit_all))\n",
    "\n",
    "\n",
    "#def Elitisme(fit,population):\n",
    "   # sortPop = sorted(zip(fit,population), reverse=True)\n",
    "   # return [sortPop[0][1],sortPop[1][1]]"
   ]
  },
  {
   "cell_type": "code",
   "execution_count": 89,
   "metadata": {},
   "outputs": [],
   "source": [
    "popsize = 50\n",
    "sizetour = 5\n",
    "gen = 100\n",
    "pc = 0.84\n",
    "pm = 0.30"
   ]
  },
  {
   "cell_type": "code",
   "execution_count": 90,
   "metadata": {},
   "outputs": [
    {
     "name": "stdout",
     "output_type": "stream",
     "text": [
      "Kromosom terbaik: [0, 0, 0, 0, 0, 0, 0, 0, 0, 0]\n",
      "Fitness terbaik : 22.001577404907174\n",
      "Hasil decode    : [-1.0, -1.0]\n",
      "Kromosom terbaik: [0, 0, 0, 0, 0, 0, 0, 0, 0, 0]\n",
      "Fitness terbaik : 22.001577404907174\n",
      "Hasil decode    : [-1.0, -1.0]\n",
      "Kromosom terbaik: [0, 0, 0, 0, 0, 0, 1, 1, 1, 1]\n",
      "Fitness terbaik : 4.255976745911796\n",
      "Hasil decode    : [-1.0, 9.0]\n",
      "Kromosom terbaik: [0, 0, 0, 0, 0, 0, 0, 0, 0, 0]\n",
      "Fitness terbaik : 22.001577404907174\n",
      "Hasil decode    : [-1.0, -1.0]\n",
      "Kromosom terbaik: [0, 0, 0, 0, 0, 0, 1, 1, 1, 1]\n",
      "Fitness terbaik : 4.255976745911796\n",
      "Hasil decode    : [-1.0, 9.0]\n",
      "Kromosom terbaik: [0, 0, 0, 0, 0, 0, 0, 0, 0, 0]\n",
      "Fitness terbaik : 22.001577404907174\n",
      "Hasil decode    : [-1.0, -1.0]\n",
      "Kromosom terbaik: [0, 0, 0, 0, 0, 0, 1, 1, 1, 0]\n",
      "Fitness terbaik : 2.7360807455049336\n",
      "Hasil decode    : [-1.0, 8.714285714285714]\n",
      "Kromosom terbaik: [0, 0, 0, 0, 1, 0, 0, 0, 0, 0]\n",
      "Fitness terbaik : -2.36982805906381\n",
      "Hasil decode    : [-0.5714285714285714, -1.0]\n",
      "Kromosom terbaik: [0, 0, 0, 0, 0, 0, 1, 1, 1, 1]\n",
      "Fitness terbaik : 4.255976745911796\n",
      "Hasil decode    : [-1.0, 9.0]\n",
      "Kromosom terbaik: [0, 0, 0, 0, 0, 0, 0, 0, 0, 0]\n",
      "Fitness terbaik : 22.001577404907174\n",
      "Hasil decode    : [-1.0, -1.0]\n",
      "Kromosom terbaik: [0, 0, 1, 0, 0, 0, 1, 1, 1, 1]\n",
      "Fitness terbaik : 2.827146522040445\n",
      "Hasil decode    : [-0.5714285714285714, 9.0]\n",
      "Kromosom terbaik: [0, 0, 0, 0, 1, 0, 0, 0, 0, 0]\n",
      "Fitness terbaik : -2.36982805906381\n",
      "Hasil decode    : [-0.5714285714285714, -1.0]\n",
      "Kromosom terbaik: [0, 0, 0, 0, 0, 0, 1, 1, 1, 1]\n",
      "Fitness terbaik : 4.255976745911796\n",
      "Hasil decode    : [-1.0, 9.0]\n",
      "Kromosom terbaik: [0, 0, 0, 0, 0, 0, 0, 0, 0, 0]\n",
      "Fitness terbaik : 22.001577404907174\n",
      "Hasil decode    : [-1.0, -1.0]\n",
      "Kromosom terbaik: [0, 0, 0, 0, 0, 0, 1, 1, 1, 1]\n",
      "Fitness terbaik : 4.255976745911796\n",
      "Hasil decode    : [-1.0, 9.0]\n",
      "Kromosom terbaik: [0, 0, 0, 0, 0, 0, 0, 0, 0, 0]\n",
      "Fitness terbaik : 22.001577404907174\n",
      "Hasil decode    : [-1.0, -1.0]\n",
      "Kromosom terbaik: [0, 0, 0, 0, 0, 0, 1, 1, 1, 1]\n",
      "Fitness terbaik : 4.255976745911796\n",
      "Hasil decode    : [-1.0, 9.0]\n",
      "Kromosom terbaik: [0, 0, 0, 0, 0, 0, 0, 0, 0, 0]\n",
      "Fitness terbaik : 22.001577404907174\n",
      "Hasil decode    : [-1.0, -1.0]\n",
      "Kromosom terbaik: [0, 0, 0, 0, 0, 0, 1, 1, 1, 1]\n",
      "Fitness terbaik : 4.255976745911796\n",
      "Hasil decode    : [-1.0, 9.0]\n",
      "Kromosom terbaik: [0, 0, 0, 0, 0, 0, 0, 0, 0, 0]\n",
      "Fitness terbaik : 22.001577404907174\n",
      "Hasil decode    : [-1.0, -1.0]\n",
      "Kromosom terbaik: [0, 0, 0, 0, 0, 0, 0, 0, 0, 0]\n",
      "Fitness terbaik : 22.001577404907174\n",
      "Hasil decode    : [-1.0, -1.0]\n",
      "Kromosom terbaik: [0, 0, 0, 1, 0, 0, 1, 1, 1, 1]\n",
      "Fitness terbaik : 2.827146522040445\n",
      "Hasil decode    : [-0.5714285714285714, 9.0]\n",
      "Kromosom terbaik: [0, 0, 0, 0, 0, 0, 1, 1, 1, 1]\n",
      "Fitness terbaik : 4.255976745911796\n",
      "Hasil decode    : [-1.0, 9.0]\n",
      "Kromosom terbaik: [0, 0, 0, 0, 0, 0, 0, 0, 0, 0]\n",
      "Fitness terbaik : 22.001577404907174\n",
      "Hasil decode    : [-1.0, -1.0]\n",
      "Kromosom terbaik: [0, 0, 0, 0, 0, 0, 1, 1, 1, 1]\n",
      "Fitness terbaik : 4.255976745911796\n",
      "Hasil decode    : [-1.0, 9.0]\n",
      "Kromosom terbaik: [0, 0, 0, 0, 0, 0, 0, 0, 0, 0]\n",
      "Fitness terbaik : 22.001577404907174\n",
      "Hasil decode    : [-1.0, -1.0]\n",
      "Kromosom terbaik: [0, 0, 0, 0, 0, 0, 1, 0, 1, 1]\n",
      "Fitness terbaik : 2.7360807455049336\n",
      "Hasil decode    : [-1.0, 8.714285714285714]\n",
      "Kromosom terbaik: [0, 0, 0, 0, 0, 0, 0, 0, 0, 0]\n",
      "Fitness terbaik : 22.001577404907174\n",
      "Hasil decode    : [-1.0, -1.0]\n",
      "Kromosom terbaik: [0, 0, 0, 0, 0, 0, 1, 1, 1, 1]\n",
      "Fitness terbaik : 4.255976745911796\n",
      "Hasil decode    : [-1.0, 9.0]\n",
      "Kromosom terbaik: [0, 0, 0, 0, 0, 0, 0, 0, 0, 0]\n",
      "Fitness terbaik : 22.001577404907174\n",
      "Hasil decode    : [-1.0, -1.0]\n",
      "Kromosom terbaik: [0, 0, 0, 0, 0, 0, 1, 1, 1, 1]\n",
      "Fitness terbaik : 4.255976745911796\n",
      "Hasil decode    : [-1.0, 9.0]\n",
      "Kromosom terbaik: [0, 0, 0, 0, 0, 0, 0, 0, 0, 0]\n",
      "Fitness terbaik : 22.001577404907174\n",
      "Hasil decode    : [-1.0, -1.0]\n",
      "Kromosom terbaik: [0, 0, 0, 0, 1, 0, 0, 0, 0, 0]\n",
      "Fitness terbaik : -2.36982805906381\n",
      "Hasil decode    : [-0.5714285714285714, -1.0]\n",
      "Kromosom terbaik: [0, 0, 0, 0, 0, 0, 1, 1, 1, 1]\n",
      "Fitness terbaik : 4.255976745911796\n",
      "Hasil decode    : [-1.0, 9.0]\n",
      "Kromosom terbaik: [0, 0, 0, 0, 0, 1, 1, 1, 1, 1]\n",
      "Fitness terbaik : -2.8921842129649815\n",
      "Hasil decode    : [-1.0, 10.142857142857142]\n",
      "Kromosom terbaik: [0, 0, 0, 0, 0, 0, 0, 0, 0, 0]\n",
      "Fitness terbaik : 22.001577404907174\n",
      "Hasil decode    : [-1.0, -1.0]\n",
      "Kromosom terbaik: [0, 0, 0, 0, 0, 1, 0, 0, 0, 0]\n",
      "Fitness terbaik : 0.9460525152741345\n",
      "Hasil decode    : [-1.0, 0.1428571428571428]\n",
      "Kromosom terbaik: [0, 0, 0, 0, 0, 0, 1, 1, 1, 1]\n",
      "Fitness terbaik : 4.255976745911796\n",
      "Hasil decode    : [-1.0, 9.0]\n",
      "Kromosom terbaik: [0, 0, 0, 0, 0, 0, 0, 0, 0, 0]\n",
      "Fitness terbaik : 22.001577404907174\n",
      "Hasil decode    : [-1.0, -1.0]\n",
      "Kromosom terbaik: [0, 0, 0, 0, 0, 0, 1, 1, 1, 1]\n",
      "Fitness terbaik : 4.255976745911796\n",
      "Hasil decode    : [-1.0, 9.0]\n",
      "Kromosom terbaik: [0, 0, 0, 0, 0, 0, 1, 1, 1, 1]\n",
      "Fitness terbaik : 4.255976745911796\n",
      "Hasil decode    : [-1.0, 9.0]\n",
      "Kromosom terbaik: [0, 0, 0, 0, 0, 0, 0, 0, 0, 0]\n",
      "Fitness terbaik : 22.001577404907174\n",
      "Hasil decode    : [-1.0, -1.0]\n",
      "Kromosom terbaik: [0, 1, 0, 0, 0, 0, 1, 1, 1, 1]\n",
      "Fitness terbaik : 3.9577926826637615\n",
      "Hasil decode    : [12.714285714285714, 9.0]\n",
      "Kromosom terbaik: [0, 0, 0, 0, 0, 0, 0, 0, 0, 0]\n",
      "Fitness terbaik : 22.001577404907174\n",
      "Hasil decode    : [-1.0, -1.0]\n",
      "Kromosom terbaik: [0, 0, 0, 0, 0, 0, 0, 0, 0, 0]\n",
      "Fitness terbaik : 22.001577404907174\n",
      "Hasil decode    : [-1.0, -1.0]\n",
      "Kromosom terbaik: [0, 0, 0, 0, 0, 0, 1, 1, 0, 1]\n",
      "Fitness terbaik : 2.7360807455049336\n",
      "Hasil decode    : [-1.0, 8.714285714285714]\n",
      "Kromosom terbaik: [0, 0, 0, 0, 0, 0, 1, 0, 1, 1]\n",
      "Fitness terbaik : 2.7360807455049336\n",
      "Hasil decode    : [-1.0, 8.714285714285714]\n",
      "Kromosom terbaik: [0, 0, 0, 0, 0, 0, 0, 0, 1, 0]\n",
      "Fitness terbaik : 3.243361787660516\n",
      "Hasil decode    : [-1.0, -0.7142857142857143]\n",
      "Kromosom terbaik: [0, 0, 0, 0, 0, 0, 1, 1, 1, 1]\n",
      "Fitness terbaik : 4.255976745911796\n",
      "Hasil decode    : [-1.0, 9.0]\n",
      "Kromosom terbaik: [0, 0, 0, 0, 0, 1, 0, 0, 0, 0]\n",
      "Fitness terbaik : 0.9460525152741345\n",
      "Hasil decode    : [-1.0, 0.1428571428571428]\n"
     ]
    }
   ],
   "source": [
    "mainPopulasi = getPop(popsize)\n",
    "\n",
    "for i in range(gen):\n",
    "    fitness = calculateFitness(mainPopulasi, popsize)\n",
    "    populasiBaru = []\n",
    "\n",
    "    terbaik = Elitisme(fitness)\n",
    "    populasiBaru.append(mainPopulasi[terbaik])\n",
    "    populasiBaru.append(mainPopulasi[terbaik])\n",
    "    i = 0\n",
    "    while (i < popsize-2):\n",
    "        parent1 = tourSelec(mainPopulasi, sizetour, popsize)\n",
    "        parent2 = tourSelec(mainPopulasi, sizetour, popsize)\n",
    "        while (parent1 == parent2):\n",
    "            parent2 = tourSelec(mainPopulasi, sizetour,popsize)\n",
    "        par1 = copy.deepcopy(parent1)\n",
    "        par2 = copy.deepcopy(parent2)\n",
    "        child = crossOver(par1, par2, pc)\n",
    "        child = Probmutasi(child[0], child[1], pm)\n",
    "        populasiBaru += child\n",
    "        i += 2\n",
    "    mainPopulasi = populasiBaru\n",
    "    \n",
    "fitness = calculateFitness(mainPopulasi, popsize)\n",
    "solusi = Elitisme(fitness)\n",
    "\n",
    "for solusi in range(popsize) :\n",
    "\n",
    "    print('Kromosom terbaik:', mainPopulasi[solusi])\n",
    "    print('Fitness terbaik :', fitnes(mainPopulasi[solusi]))\n",
    "    print('Hasil decode    :', decodeKromosom(mainPopulasi[solusi]))"
   ]
  }
 ],
 "metadata": {
  "kernelspec": {
   "display_name": "Python 3",
   "language": "python",
   "name": "python3"
  },
  "language_info": {
   "codemirror_mode": {
    "name": "ipython",
    "version": 3
   },
   "file_extension": ".py",
   "mimetype": "text/x-python",
   "name": "python",
   "nbconvert_exporter": "python",
   "pygments_lexer": "ipython3",
   "version": "3.7.4"
  }
 },
 "nbformat": 4,
 "nbformat_minor": 4
}
